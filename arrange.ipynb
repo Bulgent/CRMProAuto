{
 "cells": [
  {
   "cell_type": "code",
   "execution_count": 2,
   "metadata": {},
   "outputs": [],
   "source": [
    "import pyautogui as gui\n",
    "import subprocess\n",
    "import time\n",
    "import glob\n",
    "import pathlib\n",
    "import win32gui\n",
    "import numpy as np \n",
    "import pandas as pd\n",
    "import win32con\n",
    "import os\n",
    "import argparse\n",
    "import openpyxl as px\n",
    "from openpyxl.styles import Border, Side, PatternFill, Font"
   ]
  },
  {
   "cell_type": "code",
   "execution_count": 2,
   "metadata": {},
   "outputs": [],
   "source": [
    "import cv2\n",
    "import matplotlib.pyplot as plt\n",
    "import numpy as np\n",
    "import pyautogui as gui\n",
    "import subprocess\n",
    "import time\n",
    "import win32gui\n",
    "from PIL import ImageGrab\n",
    "import glob\n",
    "import os\n",
    "import pathlib\n",
    "import argparse"
   ]
  },
  {
   "cell_type": "code",
   "execution_count": 4,
   "metadata": {},
   "outputs": [
    {
     "name": "stdout",
     "output_type": "stream",
     "text": [
      "Point(x=1333, y=438)\n"
     ]
    }
   ],
   "source": [
    "print(gui.position())"
   ]
  },
  {
   "cell_type": "code",
   "execution_count": 35,
   "metadata": {},
   "outputs": [],
   "source": [
    "gui.click()\n",
    "gui.moveTo(63,59)\n",
    "gui.click()\n",
    "gui.moveTo(127,315)"
   ]
  },
  {
   "cell_type": "code",
   "execution_count": 4,
   "metadata": {},
   "outputs": [
    {
     "name": "stdout",
     "output_type": "stream",
     "text": [
      "Box(left=523, top=567, width=192, height=38)\n"
     ]
    }
   ],
   "source": [
    "time.sleep(3)\n",
    "imagePath = r\"./images/exportButton.png\"\n",
    "check = gui.locateOnScreen(imagePath, confidence = 0.6, grayscale = True)\n",
    "print(check)"
   ]
  },
  {
   "cell_type": "code",
   "execution_count": 4,
   "metadata": {},
   "outputs": [],
   "source": [
    "gui.click()\n",
    "gui.moveTo(45,50)\n",
    "gui.click()\n",
    "gui.moveTo(127,315)\n",
    "gui.click()\n",
    "time.sleep(1)\n",
    "gui.moveTo(1184,964)\n"
   ]
  },
  {
   "cell_type": "code",
   "execution_count": 23,
   "metadata": {},
   "outputs": [],
   "source": [
    "gui.moveTo(692,112)"
   ]
  },
  {
   "cell_type": "code",
   "execution_count": null,
   "metadata": {},
   "outputs": [],
   "source": []
  }
 ],
 "metadata": {
  "kernelspec": {
   "display_name": "Python 3.9.12 ('base')",
   "language": "python",
   "name": "python3"
  },
  "language_info": {
   "codemirror_mode": {
    "name": "ipython",
    "version": 3
   },
   "file_extension": ".py",
   "mimetype": "text/x-python",
   "name": "python",
   "nbconvert_exporter": "python",
   "pygments_lexer": "ipython3",
   "version": "3.9.12"
  },
  "orig_nbformat": 4,
  "vscode": {
   "interpreter": {
    "hash": "ad2bdc8ecc057115af97d19610ffacc2b4e99fae6737bb82f5d7fb13d2f2c186"
   }
  }
 },
 "nbformat": 4,
 "nbformat_minor": 2
}
